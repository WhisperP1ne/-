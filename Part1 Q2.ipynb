{
 "cells": [
  {
   "cell_type": "code",
   "execution_count": 1,
   "id": "c98434b8-b747-4f20-8a82-3007ed632d29",
   "metadata": {},
   "outputs": [],
   "source": [
    "from WindPy import w"
   ]
  },
  {
   "cell_type": "code",
   "execution_count": 2,
   "id": "17a254df-8d09-40b7-8e81-1452f1633dbc",
   "metadata": {},
   "outputs": [
    {
     "name": "stdout",
     "output_type": "stream",
     "text": [
      "Welcome to use Wind Quant API for Python (WindPy)!\n",
      "\n",
      "COPYRIGHT (C) 2024 WIND INFORMATION CO., LTD. ALL RIGHTS RESERVED.\n",
      "IN NO CIRCUMSTANCE SHALL WIND BE RESPONSIBLE FOR ANY DAMAGES OR LOSSES CAUSED BY USING WIND QUANT API FOR Python.\n",
      "=== Rising Interest Rate Period ===\n",
      "HSI weight: 0.00%\n",
      "SPX weight: 100.00%\n",
      "Expected Return: -0.07\n",
      "Volatility: 0.22\n",
      "Sharpe Ratio: -0.44\n",
      "\n",
      "=== Falling Interest Rate Period ===\n",
      "HSI weight: 100.00%\n",
      "SPX weight: 0.00%\n",
      "Expected Return: 0.17\n",
      "Volatility: 0.27\n",
      "Sharpe Ratio: 0.55\n"
     ]
    }
   ],
   "source": [
    "import pandas as pd\n",
    "import numpy as np\n",
    "from WindPy import w\n",
    "from scipy.optimize import minimize\n",
    "import datetime\n",
    "\n",
    "# Start WindPy\n",
    "w.start()\n",
    "tickers = ['HSI.HI', 'SPX.GI']\n",
    "start_date = '2000-01-01'\n",
    "end_date = '2023-12-31'\n",
    "risk_free_rate = 0.025\n",
    "\n",
    "market_data = w.wsd(tickers, \"close\", start_date, end_date)\n",
    "prices = pd.DataFrame({code: market_data.Data[i] for i, code in enumerate(tickers)}, index=market_data.Times)\n",
    "prices.dropna(inplace=True)\n",
    "\n",
    "returns = prices.pct_change().dropna()\n",
    "fed_data = w.wsd(\"EFFR.IR\", \"close\", start_date, end_date)\n",
    "fed_rate = pd.Series(fed_data.Data[0], index=fed_data.Times).dropna()\n",
    "fed_diff = fed_rate.diff()\n",
    "direction = fed_diff.apply(lambda x: 'rising' if x > 0 else ('falling' if x < 0 else 'flat'))\n",
    "\n",
    "returns['Rate_Direction'] = direction\n",
    "rising_returns = returns[returns['Rate_Direction'] == 'rising'].drop(columns='Rate_Direction')\n",
    "falling_returns = returns[returns['Rate_Direction'] == 'falling'].drop(columns='Rate_Direction')\n",
    "def calculate_portfolio_stats(weights, returns):\n",
    "    ret = np.sum(returns.mean() * weights) * 252\n",
    "    vol = np.sqrt(np.dot(weights.T, np.dot(returns.cov() * 252, weights)))\n",
    "    return ret, vol\n",
    "\n",
    "def negative_sharpe_ratio(weights, returns, risk_free_rate):\n",
    "    ret, vol = calculate_portfolio_stats(weights, returns)\n",
    "    return -((ret - risk_free_rate) / vol)\n",
    "\n",
    "constraints = ({'type': 'eq', 'fun': lambda x: np.sum(x) - 1})\n",
    "bounds = tuple((0, 1) for _ in range(2))\n",
    "initial_guess = [0.5, 0.5]\n",
    "# Rising period optimization\n",
    "opt_rising = minimize(negative_sharpe_ratio, initial_guess, args=(rising_returns, risk_free_rate),\n",
    "                      method='SLSQP', bounds=bounds, constraints=constraints)\n",
    "rising_weights = opt_rising.x\n",
    "rising_ret, rising_vol = calculate_portfolio_stats(rising_weights, rising_returns)\n",
    "\n",
    "# Falling period optimization\n",
    "opt_falling = minimize(negative_sharpe_ratio, initial_guess, args=(falling_returns, risk_free_rate),\n",
    "                       method='SLSQP', bounds=bounds, constraints=constraints)\n",
    "falling_weights = opt_falling.x\n",
    "falling_ret, falling_vol = calculate_portfolio_stats(falling_weights, falling_returns)\n",
    "print(\"=== Rising Interest Rate Period ===\")\n",
    "print(f\"HSI weight: {rising_weights[0]*100:.2f}%\")\n",
    "print(f\"SPX weight: {rising_weights[1]*100:.2f}%\")\n",
    "print(f\"Expected Return: {rising_ret:.2f}\")\n",
    "print(f\"Volatility: {rising_vol:.2f}\")\n",
    "print(f\"Sharpe Ratio: {(rising_ret - risk_free_rate)/rising_vol:.2f}\")\n",
    "\n",
    "print(\"\\n=== Falling Interest Rate Period ===\")\n",
    "print(f\"HSI weight: {falling_weights[0]*100:.2f}%\")\n",
    "print(f\"SPX weight: {falling_weights[1]*100:.2f}%\")\n",
    "print(f\"Expected Return: {falling_ret:.2f}\")\n",
    "print(f\"Volatility: {falling_vol:.2f}\")\n",
    "print(f\"Sharpe Ratio: {(falling_ret - risk_free_rate)/falling_vol:.2f}\")"
   ]
  },
  {
   "cell_type": "code",
   "execution_count": null,
   "id": "0d4f491d-3eaf-4022-8e70-e7965572d4e7",
   "metadata": {},
   "outputs": [],
   "source": []
  }
 ],
 "metadata": {
  "kernelspec": {
   "display_name": "Python 3 (ipykernel)",
   "language": "python",
   "name": "python3"
  },
  "language_info": {
   "codemirror_mode": {
    "name": "ipython",
    "version": 3
   },
   "file_extension": ".py",
   "mimetype": "text/x-python",
   "name": "python",
   "nbconvert_exporter": "python",
   "pygments_lexer": "ipython3",
   "version": "3.11.9"
  }
 },
 "nbformat": 4,
 "nbformat_minor": 5
}
